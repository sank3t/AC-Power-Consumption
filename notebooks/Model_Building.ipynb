{
 "cells": [
  {
   "cell_type": "code",
   "execution_count": 1,
   "metadata": {},
   "outputs": [],
   "source": [
    "import os\n",
    "import pickle\n",
    "\n",
    "import pandas as pd\n",
    "\n",
    "from sklearn.preprocessing import StandardScaler\n",
    "from sklearn.linear_model import LinearRegression\n",
    "\n",
    "from sklearn.metrics import mean_absolute_error, mean_squared_error"
   ]
  },
  {
   "cell_type": "code",
   "execution_count": 2,
   "metadata": {},
   "outputs": [
    {
     "data": {
      "text/html": [
       "<div>\n",
       "<style scoped>\n",
       "    .dataframe tbody tr th:only-of-type {\n",
       "        vertical-align: middle;\n",
       "    }\n",
       "\n",
       "    .dataframe tbody tr th {\n",
       "        vertical-align: top;\n",
       "    }\n",
       "\n",
       "    .dataframe thead th {\n",
       "        text-align: right;\n",
       "    }\n",
       "</style>\n",
       "<table border=\"1\" class=\"dataframe\">\n",
       "  <thead>\n",
       "    <tr style=\"text-align: right;\">\n",
       "      <th></th>\n",
       "      <th>hotel</th>\n",
       "      <th>shift_1</th>\n",
       "      <th>shift_2</th>\n",
       "      <th>rolling_1_mean</th>\n",
       "      <th>rolling_2_mean</th>\n",
       "      <th>rolling_3_mean</th>\n",
       "      <th>rolling_2_min</th>\n",
       "      <th>rolling_2_max</th>\n",
       "    </tr>\n",
       "    <tr>\n",
       "      <th>timestamp</th>\n",
       "      <th></th>\n",
       "      <th></th>\n",
       "      <th></th>\n",
       "      <th></th>\n",
       "      <th></th>\n",
       "      <th></th>\n",
       "      <th></th>\n",
       "      <th></th>\n",
       "    </tr>\n",
       "  </thead>\n",
       "  <tbody>\n",
       "    <tr>\n",
       "      <th>2019-08-01 00:00:00</th>\n",
       "      <td>69.667207</td>\n",
       "      <td>NaN</td>\n",
       "      <td>NaN</td>\n",
       "      <td>69.667207</td>\n",
       "      <td>NaN</td>\n",
       "      <td>NaN</td>\n",
       "      <td>NaN</td>\n",
       "      <td>NaN</td>\n",
       "    </tr>\n",
       "    <tr>\n",
       "      <th>2019-08-01 01:00:00</th>\n",
       "      <td>69.632524</td>\n",
       "      <td>69.667207</td>\n",
       "      <td>NaN</td>\n",
       "      <td>69.632524</td>\n",
       "      <td>69.649865</td>\n",
       "      <td>NaN</td>\n",
       "      <td>69.632524</td>\n",
       "      <td>69.667207</td>\n",
       "    </tr>\n",
       "    <tr>\n",
       "      <th>2019-08-01 02:00:00</th>\n",
       "      <td>67.874325</td>\n",
       "      <td>69.632524</td>\n",
       "      <td>69.667207</td>\n",
       "      <td>67.874325</td>\n",
       "      <td>68.753424</td>\n",
       "      <td>69.058018</td>\n",
       "      <td>67.874325</td>\n",
       "      <td>69.632524</td>\n",
       "    </tr>\n",
       "    <tr>\n",
       "      <th>2019-08-01 03:00:00</th>\n",
       "      <td>67.816213</td>\n",
       "      <td>67.874325</td>\n",
       "      <td>69.632524</td>\n",
       "      <td>67.816213</td>\n",
       "      <td>67.845269</td>\n",
       "      <td>68.441021</td>\n",
       "      <td>67.816213</td>\n",
       "      <td>67.874325</td>\n",
       "    </tr>\n",
       "    <tr>\n",
       "      <th>2019-08-01 04:00:00</th>\n",
       "      <td>65.888407</td>\n",
       "      <td>67.816213</td>\n",
       "      <td>67.874325</td>\n",
       "      <td>65.888407</td>\n",
       "      <td>66.852310</td>\n",
       "      <td>67.192982</td>\n",
       "      <td>65.888407</td>\n",
       "      <td>67.816213</td>\n",
       "    </tr>\n",
       "  </tbody>\n",
       "</table>\n",
       "</div>"
      ],
      "text/plain": [
       "                         hotel    shift_1    shift_2  rolling_1_mean  \\\n",
       "timestamp                                                              \n",
       "2019-08-01 00:00:00  69.667207        NaN        NaN       69.667207   \n",
       "2019-08-01 01:00:00  69.632524  69.667207        NaN       69.632524   \n",
       "2019-08-01 02:00:00  67.874325  69.632524  69.667207       67.874325   \n",
       "2019-08-01 03:00:00  67.816213  67.874325  69.632524       67.816213   \n",
       "2019-08-01 04:00:00  65.888407  67.816213  67.874325       65.888407   \n",
       "\n",
       "                     rolling_2_mean  rolling_3_mean  rolling_2_min  \\\n",
       "timestamp                                                            \n",
       "2019-08-01 00:00:00             NaN             NaN            NaN   \n",
       "2019-08-01 01:00:00       69.649865             NaN      69.632524   \n",
       "2019-08-01 02:00:00       68.753424       69.058018      67.874325   \n",
       "2019-08-01 03:00:00       67.845269       68.441021      67.816213   \n",
       "2019-08-01 04:00:00       66.852310       67.192982      65.888407   \n",
       "\n",
       "                     rolling_2_max  \n",
       "timestamp                           \n",
       "2019-08-01 00:00:00            NaN  \n",
       "2019-08-01 01:00:00      69.667207  \n",
       "2019-08-01 02:00:00      69.632524  \n",
       "2019-08-01 03:00:00      67.874325  \n",
       "2019-08-01 04:00:00      67.816213  "
      ]
     },
     "metadata": {},
     "output_type": "display_data"
    }
   ],
   "source": [
    "hotel_hourly_pwr_df = pd.read_feather(\"../data/feature_engineered/hotel__hourly_shift_rolling.feather\")\n",
    "\n",
    "hotel_hourly_pwr_df.set_index(\"timestamp\", inplace=True)\n",
    "\n",
    "display(hotel_hourly_pwr_df.head())"
   ]
  },
  {
   "cell_type": "markdown",
   "metadata": {},
   "source": [
    "### Modeling Step\n",
    "\n",
    "Since the data is available from Aug 1, 2019 - Sep 30, 2019. Will try to **forecast** the _power consumed_ by the hotel for the next **7 days on hourly granularity**.\n",
    "\n",
    "#### Evaluation Metrics\n",
    "\n",
    "* MAE (Mean Absolute Error)\n",
    "\n",
    "\n",
    "* MSE (Mean Squared Error)"
   ]
  },
  {
   "cell_type": "markdown",
   "metadata": {},
   "source": [
    "### Dividing training and testing data"
   ]
  },
  {
   "cell_type": "code",
   "execution_count": 3,
   "metadata": {},
   "outputs": [],
   "source": [
    "df_train = hotel_hourly_pwr_df[:\"2019-09-23\"]\n",
    "df_test = hotel_hourly_pwr_df[\"2019-09-24\": \"2019-09-30\"]"
   ]
  },
  {
   "cell_type": "code",
   "execution_count": 4,
   "metadata": {},
   "outputs": [],
   "source": [
    "X_train = df_train.iloc[2:, 1:].values\n",
    "y_train = df_train.iloc[2:, 0].values\n",
    "\n",
    "X_test = df_test.iloc[2:, 1:].values\n",
    "y_test = df_test.iloc[2:, 0].values"
   ]
  },
  {
   "cell_type": "markdown",
   "metadata": {},
   "source": [
    "### Performing Standard Scaling"
   ]
  },
  {
   "cell_type": "code",
   "execution_count": 5,
   "metadata": {},
   "outputs": [],
   "source": [
    "sc = StandardScaler()\n",
    "\n",
    "X_train = sc.fit_transform(X_train)\n",
    "X_test = sc.transform(X_test)"
   ]
  },
  {
   "cell_type": "markdown",
   "metadata": {},
   "source": [
    "### Fitting a simple linear regression model"
   ]
  },
  {
   "cell_type": "code",
   "execution_count": 6,
   "metadata": {},
   "outputs": [],
   "source": [
    "lin_reg = LinearRegression()"
   ]
  },
  {
   "cell_type": "code",
   "execution_count": 7,
   "metadata": {},
   "outputs": [
    {
     "data": {
      "text/plain": [
       "LinearRegression()"
      ]
     },
     "execution_count": 7,
     "metadata": {},
     "output_type": "execute_result"
    }
   ],
   "source": [
    "lin_reg.fit(X_train, y_train)"
   ]
  },
  {
   "cell_type": "code",
   "execution_count": 8,
   "metadata": {},
   "outputs": [],
   "source": [
    "y_pred = lin_reg.predict(X_test)"
   ]
  },
  {
   "cell_type": "markdown",
   "metadata": {},
   "source": [
    "### Model Evaluation"
   ]
  },
  {
   "cell_type": "code",
   "execution_count": 9,
   "metadata": {},
   "outputs": [
    {
     "data": {
      "text/plain": [
       "9.93047678893634e-15"
      ]
     },
     "execution_count": 9,
     "metadata": {},
     "output_type": "execute_result"
    }
   ],
   "source": [
    "mean_absolute_error(y_test, y_pred)"
   ]
  },
  {
   "cell_type": "code",
   "execution_count": 10,
   "metadata": {},
   "outputs": [
    {
     "data": {
      "text/plain": [
       "1.4309746733744041e-28"
      ]
     },
     "execution_count": 10,
     "metadata": {},
     "output_type": "execute_result"
    }
   ],
   "source": [
    "mean_squared_error(y_test, y_pred)"
   ]
  },
  {
   "cell_type": "markdown",
   "metadata": {},
   "source": [
    "### Saving pickle files"
   ]
  },
  {
   "cell_type": "code",
   "execution_count": 11,
   "metadata": {},
   "outputs": [],
   "source": [
    "os.makedirs(\"../pickles/\", exist_ok=True)"
   ]
  },
  {
   "cell_type": "code",
   "execution_count": 12,
   "metadata": {},
   "outputs": [],
   "source": [
    "with open(\"../pickles/standard_scaler.pkl\", \"wb\") as fp:\n",
    "    pickle.dump(sc, fp)\n",
    "    \n",
    "with open(\"../pickles/lin_reg.pkl\", \"wb\") as fp:\n",
    "    pickle.dump(lin_reg, fp)"
   ]
  }
 ],
 "metadata": {
  "kernelspec": {
   "display_name": "Python 3",
   "language": "python",
   "name": "python3"
  },
  "language_info": {
   "codemirror_mode": {
    "name": "ipython",
    "version": 3
   },
   "file_extension": ".py",
   "mimetype": "text/x-python",
   "name": "python",
   "nbconvert_exporter": "python",
   "pygments_lexer": "ipython3",
   "version": "3.8.10"
  }
 },
 "nbformat": 4,
 "nbformat_minor": 4
}
