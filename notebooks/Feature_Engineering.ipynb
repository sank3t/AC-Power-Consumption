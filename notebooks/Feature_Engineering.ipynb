{
 "cells": [
  {
   "cell_type": "code",
   "execution_count": 1,
   "metadata": {},
   "outputs": [],
   "source": [
    "import os\n",
    "\n",
    "import pandas as pd"
   ]
  },
  {
   "cell_type": "code",
   "execution_count": 2,
   "metadata": {},
   "outputs": [
    {
     "data": {
      "text/html": [
       "<div>\n",
       "<style scoped>\n",
       "    .dataframe tbody tr th:only-of-type {\n",
       "        vertical-align: middle;\n",
       "    }\n",
       "\n",
       "    .dataframe tbody tr th {\n",
       "        vertical-align: top;\n",
       "    }\n",
       "\n",
       "    .dataframe thead th {\n",
       "        text-align: right;\n",
       "    }\n",
       "</style>\n",
       "<table border=\"1\" class=\"dataframe\">\n",
       "  <thead>\n",
       "    <tr style=\"text-align: right;\">\n",
       "      <th></th>\n",
       "      <th>hotel</th>\n",
       "    </tr>\n",
       "    <tr>\n",
       "      <th>timestamp</th>\n",
       "      <th></th>\n",
       "    </tr>\n",
       "  </thead>\n",
       "  <tbody>\n",
       "    <tr>\n",
       "      <th>2019-08-01 00:00:00</th>\n",
       "      <td>69.667207</td>\n",
       "    </tr>\n",
       "    <tr>\n",
       "      <th>2019-08-01 01:00:00</th>\n",
       "      <td>69.632524</td>\n",
       "    </tr>\n",
       "    <tr>\n",
       "      <th>2019-08-01 02:00:00</th>\n",
       "      <td>67.874325</td>\n",
       "    </tr>\n",
       "    <tr>\n",
       "      <th>2019-08-01 03:00:00</th>\n",
       "      <td>67.816213</td>\n",
       "    </tr>\n",
       "    <tr>\n",
       "      <th>2019-08-01 04:00:00</th>\n",
       "      <td>65.888407</td>\n",
       "    </tr>\n",
       "  </tbody>\n",
       "</table>\n",
       "</div>"
      ],
      "text/plain": [
       "                         hotel\n",
       "timestamp                     \n",
       "2019-08-01 00:00:00  69.667207\n",
       "2019-08-01 01:00:00  69.632524\n",
       "2019-08-01 02:00:00  67.874325\n",
       "2019-08-01 03:00:00  67.816213\n",
       "2019-08-01 04:00:00  65.888407"
      ]
     },
     "metadata": {},
     "output_type": "display_data"
    }
   ],
   "source": [
    "hotel_hourly_pwr_df = pd.read_csv(\"../data/resampled/ac_pwr_hourly.csv\",\n",
    "                                  usecols=[\"timestamp\", \"hotel\"],\n",
    "                                  index_col=\"timestamp\",\n",
    "                                  parse_dates=[\"timestamp\"]\n",
    "                                 )\n",
    "\n",
    "display(hotel_hourly_pwr_df.head())"
   ]
  },
  {
   "cell_type": "markdown",
   "metadata": {},
   "source": [
    "## Creating lag and window features"
   ]
  },
  {
   "cell_type": "code",
   "execution_count": 3,
   "metadata": {},
   "outputs": [
    {
     "data": {
      "text/html": [
       "<div>\n",
       "<style scoped>\n",
       "    .dataframe tbody tr th:only-of-type {\n",
       "        vertical-align: middle;\n",
       "    }\n",
       "\n",
       "    .dataframe tbody tr th {\n",
       "        vertical-align: top;\n",
       "    }\n",
       "\n",
       "    .dataframe thead th {\n",
       "        text-align: right;\n",
       "    }\n",
       "</style>\n",
       "<table border=\"1\" class=\"dataframe\">\n",
       "  <thead>\n",
       "    <tr style=\"text-align: right;\">\n",
       "      <th></th>\n",
       "      <th>hotel</th>\n",
       "      <th>shift_1</th>\n",
       "      <th>shift_2</th>\n",
       "      <th>rolling_1_mean</th>\n",
       "      <th>rolling_2_mean</th>\n",
       "      <th>rolling_3_mean</th>\n",
       "      <th>rolling_2_min</th>\n",
       "      <th>rolling_2_max</th>\n",
       "    </tr>\n",
       "    <tr>\n",
       "      <th>timestamp</th>\n",
       "      <th></th>\n",
       "      <th></th>\n",
       "      <th></th>\n",
       "      <th></th>\n",
       "      <th></th>\n",
       "      <th></th>\n",
       "      <th></th>\n",
       "      <th></th>\n",
       "    </tr>\n",
       "  </thead>\n",
       "  <tbody>\n",
       "    <tr>\n",
       "      <th>2019-08-01 00:00:00</th>\n",
       "      <td>69.667207</td>\n",
       "      <td>NaN</td>\n",
       "      <td>NaN</td>\n",
       "      <td>69.667207</td>\n",
       "      <td>NaN</td>\n",
       "      <td>NaN</td>\n",
       "      <td>NaN</td>\n",
       "      <td>NaN</td>\n",
       "    </tr>\n",
       "    <tr>\n",
       "      <th>2019-08-01 01:00:00</th>\n",
       "      <td>69.632524</td>\n",
       "      <td>69.667207</td>\n",
       "      <td>NaN</td>\n",
       "      <td>69.632524</td>\n",
       "      <td>69.649865</td>\n",
       "      <td>NaN</td>\n",
       "      <td>69.632524</td>\n",
       "      <td>69.667207</td>\n",
       "    </tr>\n",
       "    <tr>\n",
       "      <th>2019-08-01 02:00:00</th>\n",
       "      <td>67.874325</td>\n",
       "      <td>69.632524</td>\n",
       "      <td>69.667207</td>\n",
       "      <td>67.874325</td>\n",
       "      <td>68.753424</td>\n",
       "      <td>69.058018</td>\n",
       "      <td>67.874325</td>\n",
       "      <td>69.632524</td>\n",
       "    </tr>\n",
       "    <tr>\n",
       "      <th>2019-08-01 03:00:00</th>\n",
       "      <td>67.816213</td>\n",
       "      <td>67.874325</td>\n",
       "      <td>69.632524</td>\n",
       "      <td>67.816213</td>\n",
       "      <td>67.845269</td>\n",
       "      <td>68.441021</td>\n",
       "      <td>67.816213</td>\n",
       "      <td>67.874325</td>\n",
       "    </tr>\n",
       "    <tr>\n",
       "      <th>2019-08-01 04:00:00</th>\n",
       "      <td>65.888407</td>\n",
       "      <td>67.816213</td>\n",
       "      <td>67.874325</td>\n",
       "      <td>65.888407</td>\n",
       "      <td>66.852310</td>\n",
       "      <td>67.192982</td>\n",
       "      <td>65.888407</td>\n",
       "      <td>67.816213</td>\n",
       "    </tr>\n",
       "  </tbody>\n",
       "</table>\n",
       "</div>"
      ],
      "text/plain": [
       "                         hotel    shift_1    shift_2  rolling_1_mean  \\\n",
       "timestamp                                                              \n",
       "2019-08-01 00:00:00  69.667207        NaN        NaN       69.667207   \n",
       "2019-08-01 01:00:00  69.632524  69.667207        NaN       69.632524   \n",
       "2019-08-01 02:00:00  67.874325  69.632524  69.667207       67.874325   \n",
       "2019-08-01 03:00:00  67.816213  67.874325  69.632524       67.816213   \n",
       "2019-08-01 04:00:00  65.888407  67.816213  67.874325       65.888407   \n",
       "\n",
       "                     rolling_2_mean  rolling_3_mean  rolling_2_min  \\\n",
       "timestamp                                                            \n",
       "2019-08-01 00:00:00             NaN             NaN            NaN   \n",
       "2019-08-01 01:00:00       69.649865             NaN      69.632524   \n",
       "2019-08-01 02:00:00       68.753424       69.058018      67.874325   \n",
       "2019-08-01 03:00:00       67.845269       68.441021      67.816213   \n",
       "2019-08-01 04:00:00       66.852310       67.192982      65.888407   \n",
       "\n",
       "                     rolling_2_max  \n",
       "timestamp                           \n",
       "2019-08-01 00:00:00            NaN  \n",
       "2019-08-01 01:00:00      69.667207  \n",
       "2019-08-01 02:00:00      69.632524  \n",
       "2019-08-01 03:00:00      67.874325  \n",
       "2019-08-01 04:00:00      67.816213  "
      ]
     },
     "metadata": {},
     "output_type": "display_data"
    }
   ],
   "source": [
    "hotel_hourly_pwr_df[\"shift_1\"] = hotel_hourly_pwr_df[[\"hotel\"]].shift(periods=1)\n",
    "hotel_hourly_pwr_df[\"shift_2\"] = hotel_hourly_pwr_df[[\"hotel\"]].shift(periods=2)\n",
    "\n",
    "hotel_hourly_pwr_df[\"rolling_1_mean\"] = hotel_hourly_pwr_df[[\"hotel\"]].rolling(window=1).mean()\n",
    "hotel_hourly_pwr_df[\"rolling_2_mean\"] = hotel_hourly_pwr_df[[\"hotel\"]].rolling(window=2).mean()\n",
    "hotel_hourly_pwr_df[\"rolling_3_mean\"] = hotel_hourly_pwr_df[[\"hotel\"]].rolling(window=3).mean()\n",
    "\n",
    "hotel_hourly_pwr_df[\"rolling_2_min\"] = hotel_hourly_pwr_df[[\"hotel\"]].rolling(window=2).min()\n",
    "hotel_hourly_pwr_df[\"rolling_2_max\"] = hotel_hourly_pwr_df[[\"hotel\"]].rolling(window=2).max()\n",
    "\n",
    "display(hotel_hourly_pwr_df.head())"
   ]
  },
  {
   "cell_type": "markdown",
   "metadata": {},
   "source": [
    "### Dumping the data in a CSV"
   ]
  },
  {
   "cell_type": "code",
   "execution_count": 4,
   "metadata": {},
   "outputs": [],
   "source": [
    "os.makedirs(\"../data/feature_engineered/\", exist_ok=True)"
   ]
  },
  {
   "cell_type": "code",
   "execution_count": 5,
   "metadata": {},
   "outputs": [],
   "source": [
    "hotel_hourly_pwr_df.to_csv(\"../data/feature_engineered/hotel__hourly_shift_rolling.csv\")"
   ]
  }
 ],
 "metadata": {
  "kernelspec": {
   "display_name": "Python 3",
   "language": "python",
   "name": "python3"
  },
  "language_info": {
   "codemirror_mode": {
    "name": "ipython",
    "version": 3
   },
   "file_extension": ".py",
   "mimetype": "text/x-python",
   "name": "python",
   "nbconvert_exporter": "python",
   "pygments_lexer": "ipython3",
   "version": "3.8.10"
  }
 },
 "nbformat": 4,
 "nbformat_minor": 4
}
